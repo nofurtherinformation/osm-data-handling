{
 "cells": [
  {
   "cell_type": "code",
   "execution_count": 55,
   "metadata": {},
   "outputs": [],
   "source": [
    "import geopandas as gpd\n",
    "import pandas as pd\n",
    "from tqdm import tqdm"
   ]
  },
  {
   "cell_type": "code",
   "execution_count": 56,
   "metadata": {},
   "outputs": [],
   "source": [
    "states = gpd.read_file(\"https://raw.githubusercontent.com/GeoDaCenter/covid/master/public/geojson/state_usafacts.geojson\")[[\"GEOID\",\"NAME\"]]\n",
    "states[\"NAME\"] = states[\"NAME\"].str.replace(' ', '-').str.lower()\n",
    "state_dict = states.to_dict(orient=\"Records\")"
   ]
  },
  {
   "cell_type": "code",
   "execution_count": 57,
   "metadata": {
    "scrolled": true
   },
   "outputs": [
    {
     "data": {
      "text/plain": [
       "{'GEOID': '23', 'NAME': 'maine'}"
      ]
     },
     "execution_count": 57,
     "metadata": {},
     "output_type": "execute_result"
    }
   ],
   "source": [
    "# format of the state dict\n",
    "state_dict[0]"
   ]
  },
  {
   "cell_type": "code",
   "execution_count": 58,
   "metadata": {},
   "outputs": [],
   "source": [
    "counties = gpd.read_file('./counties/cb_2018_us_county_500k.shp')\n",
    "counties = counties.to_crs(\"EPSG:5070\")"
   ]
  },
  {
   "cell_type": "code",
   "execution_count": 52,
   "metadata": {},
   "outputs": [
    {
     "name": "stdout",
     "output_type": "stream",
     "text": [
      "maine\n"
     ]
    },
    {
     "name": "stderr",
     "output_type": "stream",
     "text": [
      "100%|██████████████████████████████████████████████████████████████████████████████████| 16/16 [02:44<00:00, 10.28s/it]\n"
     ]
    }
   ],
   "source": [
    "results = []\n",
    "\n",
    "for state in state_dict:\n",
    "    print(f\"Parsing {state['NAME']}...\")\n",
    "    county_data = counties[counties.STATEFP == state['GEOID']]\n",
    "    try:\n",
    "        state_data = gpd.read_file(f\"{state['NAME']}_dissolved.gpkg\").to_crs(\"EPSG:5070\")\n",
    "        for i in tqdm(range(0, len(county_data))):\n",
    "            results.append({\n",
    "                'GEOID': county_data.iloc[i].GEOID\n",
    "                'area': gpd.clip(state_data, county_data.iloc[i].geometry).area.sum()\n",
    "            })\n",
    "    except:\n",
    "        print('could not find file')\n",
    "        \n",
    "pd.DataFrame(results).to_csv('area_results.csv', index=False)"
   ]
  }
 ],
 "metadata": {
  "kernelspec": {
   "display_name": "Python 3",
   "language": "python",
   "name": "python3"
  },
  "language_info": {
   "codemirror_mode": {
    "name": "ipython",
    "version": 3
   },
   "file_extension": ".py",
   "mimetype": "text/x-python",
   "name": "python",
   "nbconvert_exporter": "python",
   "pygments_lexer": "ipython3",
   "version": "3.8.3"
  }
 },
 "nbformat": 4,
 "nbformat_minor": 4
}
